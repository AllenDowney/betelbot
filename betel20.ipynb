{
 "cells": [
  {
   "cell_type": "code",
   "execution_count": 2,
   "metadata": {},
   "outputs": [],
   "source": [
    "import numpy as np\n",
    "import datetime\n",
    "from matplotlib import pyplot as plt\n",
    "from wotan import flatten\n",
    "from betellib import build_string, get_mags_from_AAVSO\n",
    "import requests\n",
    "from bs4 import BeautifulSoup\n",
    "from astropy.stats import biweight_location"
   ]
  },
  {
   "cell_type": "code",
   "execution_count": 3,
   "metadata": {},
   "outputs": [],
   "source": [
    "def make_plot(days_ago, dates, mag):\n",
    "    print('Making plot...')\n",
    "    time_span = np.max(dates) - np.min(dates)\n",
    "    flatten_lc, trend_lc = flatten(\n",
    "        days_ago,\n",
    "        mag,\n",
    "        method='lowess',\n",
    "        window_length=time_span/5,\n",
    "        return_trend=True,\n",
    "        )\n",
    "    plt.scatter(days_ago, mag, s=5, color='blue', alpha=0.5)\n",
    "\n",
    "    plt.scatter(days_ago1, all_mags1, s=10, color='black', alpha=0.8, marker=\"x\")\n",
    "    plt.xlabel('Days before today')\n",
    "    plt.ylabel('Visual magnitude')\n",
    "    #mid = biweight_location(mag)\n",
    "    mid = 1.10\n",
    "    plt.ylim(mid-1, mid+1)\n",
    "    plt.xlim(-1, 20)\n",
    "    plt.plot(days_ago, trend_lc, color='red', linewidth=1)\n",
    "    plt.gca().invert_yaxis()\n",
    "    plt.gca().invert_xaxis()\n",
    "    date_text = datetime.datetime.now().strftime(\"%d %b %Y\")\n",
    "    data_last24hrs = np.where(days_ago<1)\n",
    "    mean_last24hrs = biweight_location(mag[data_last24hrs])\n",
    "    lumi = str(format(mean_last24hrs, '.2f'))\n",
    "    plt.text(19.5, mid+1-0.25, \"AAVSO observations visual (by-eye) in blue\", color='blue')\n",
    "    plt.text(19.5, mid+1-0.15, \"AAVSO observations from CCDs in black\", color='black')\n",
    "    plt.text(19.5, mid+1-0.05, \"LOESS trend in red\", color='red')\n",
    "    plt.text(19.5, mid-1+0.1, '#Betelgeuse brightness ' + lumi + \" mag on \" + date_text + \" by @betelbot\")\n",
    "    plt.savefig(plot_file, bbox_inches='tight', dpi=300)\n",
    "    print('Done.')"
   ]
  },
  {
   "cell_type": "code",
   "execution_count": 4,
   "metadata": {},
   "outputs": [],
   "source": [
    "def get_mags_from_AAVSO_V(url):\n",
    "    r = requests.get(url)\n",
    "    soup = BeautifulSoup(r.content, 'html.parser')\n",
    "    rows = soup.select('tbody tr')\n",
    "    dates = []\n",
    "    mags = []\n",
    "    for row in rows:\n",
    "        string = '' + row.text\n",
    "        string = string.split('\\n')\n",
    "        try:\n",
    "            date = float(string[3])\n",
    "            mag = float(string[5])\n",
    "            band = string[7]\n",
    "            #print(date, mag, band)\n",
    "            if band == \"V\":\n",
    "                dates.append(date)\n",
    "                mags.append(mag)\n",
    "                #print(date, mag)\n",
    "            #print(mag)\n",
    "        except:\n",
    "            pass\n",
    "    return np.array(dates), np.array(mags)"
   ]
  },
  {
   "cell_type": "code",
   "execution_count": 5,
   "metadata": {},
   "outputs": [
    {
     "name": "stdout",
     "output_type": "stream",
     "text": [
      "[2458963.3017   2458963.2968   2458963.295    2458962.3084\n",
      " 2458962.3064   2458961.3037   2458959.52727  2458958.6236\n",
      " 2458957.52629  2458957.294    2458957.2921   2458956.2951\n",
      " 2458955.3094   2458955.2967   2458954.6766   2458954.6223\n",
      " 2458952.53422  2458950.2856   2458950.2834   2458949.6755\n",
      " 2458949.6207   2458949.2792   2458948.2886   2458948.2864\n",
      " 2458947.291    2458946.2841   2458946.2748   2458945.3137\n",
      " 2458945.2872   2458945.2848   2458944.3116   2458944.2826\n",
      " 2458944.2806   2458943.6179   2458943.3148   2458942.6498\n",
      " 2458942.5838   2458942.2924   2458942.2904   2458941.288\n",
      " 2458941.2861   2458940.2892   2458940.287    2458939.2789\n",
      " 2458939.2768   2458938.6145   2458937.5368   2458934.6578\n",
      " 2458933.288605 2458933.2731   2458933.2708   2458932.6513\n",
      " 2458932.3039   2458931.53472  2458931.52741  2458931.3264\n",
      " 2458931.296645 2458930.6576   2458930.54324 ] [0.456  0.409  0.41   0.342  0.335  0.43   0.413  0.487  0.448  0.348\n",
      " 0.386  0.558  0.48   0.517  0.543  0.504  0.534  0.539  0.607  0.63\n",
      " 0.637  0.34   0.614  0.649  0.661  0.69   0.662  0.718  0.697  0.74\n",
      " 0.772  0.647  0.653  0.713  0.78   0.766  0.774  0.769  0.773  0.81\n",
      " 0.774  0.775  0.773  0.847  0.854  0.869  0.912  0.961  0.977  0.975\n",
      " 0.991  0.971  1.005  0.995  1.013  1.004  0.9835 1.049  1.031 ]\n",
      "[2458963.3017   2458963.2968   2458963.295    2458962.3084\n",
      " 2458962.3064   2458961.3037   2458959.52727  2458958.6236\n",
      " 2458957.52629  2458957.294    2458957.2921   2458956.2951\n",
      " 2458955.3094   2458955.2967   2458954.6766   2458954.6223\n",
      " 2458952.53422  2458950.2856   2458950.2834   2458949.6755\n",
      " 2458949.6207   2458949.2792   2458948.2886   2458948.2864\n",
      " 2458947.291    2458946.2841   2458946.2748   2458945.3137\n",
      " 2458945.2872   2458945.2848   2458944.3116   2458944.2826\n",
      " 2458944.2806   2458943.6179   2458943.3148   2458942.6498\n",
      " 2458942.5838   2458942.2924   2458942.2904   2458941.288\n",
      " 2458941.2861   2458940.2892   2458940.287    2458939.2789\n",
      " 2458939.2768   2458938.6145   2458937.5368   2458934.6578\n",
      " 2458933.288605 2458933.2731   2458933.2708   2458932.6513\n",
      " 2458932.3039   2458931.53472  2458931.52741  2458931.3264\n",
      " 2458931.296645 2458930.6576   2458930.54324 ] [0.456  0.409  0.41   0.342  0.335  0.43   0.413  0.487  0.448  0.348\n",
      " 0.386  0.558  0.48   0.517  0.543  0.504  0.534  0.539  0.607  0.63\n",
      " 0.637  0.34   0.614  0.649  0.661  0.69   0.662  0.718  0.697  0.74\n",
      " 0.772  0.647  0.653  0.713  0.78   0.766  0.774  0.769  0.773  0.81\n",
      " 0.774  0.775  0.773  0.847  0.854  0.869  0.912  0.961  0.977  0.975\n",
      " 0.991  0.971  1.005  0.995  1.013  1.004  0.9835 1.049  1.031 ]\n"
     ]
    }
   ],
   "source": [
    "# CCDs\n",
    "url_base = 'https://www.aavso.org/apps/webobs/results/?star=betelgeuse&num_results=200&obs_types=dslr+ptg+pep+ccd+visdig&page='\n",
    "baseline_mag = 0.5\n",
    "pages = np.arange(1, 2, 1)\n",
    "all_dates1 = np.array([])\n",
    "all_mags1 = np.array([])\n",
    "for page in pages:\n",
    "    url = url_base + str(page)\n",
    "    #print(url)\n",
    "    dates, mags = get_mags_from_AAVSO_V(url)\n",
    "    print(dates, mags)\n",
    "    all_dates1 = np.concatenate((all_dates1, dates))\n",
    "    all_mags1 = np.concatenate((all_mags1, mags))\n",
    "    \n",
    "days_ago1 = np.max(all_dates1) - all_dates1\n",
    "print(all_dates1, all_mags1)"
   ]
  },
  {
   "cell_type": "code",
   "execution_count": 7,
   "metadata": {},
   "outputs": [
    {
     "data": {
      "text/plain": [
       "[<matplotlib.lines.Line2D at 0x7fd58ef963d0>]"
      ]
     },
     "execution_count": 7,
     "metadata": {},
     "output_type": "execute_result"
    },
    {
     "data": {
      "image/png": "[encoded data removed]",
      "text/plain": [
       "<Figure size 432x288 with 1 Axes>"
      ]
     },
     "metadata": {
      "needs_background": "light"
     },
     "output_type": "display_data"
    }
   ],
   "source": [
    "plt.plot(all_dates1, all_mags1)"
   ]
  },
  {
   "cell_type": "code",
   "execution_count": 12,
   "metadata": {},
   "outputs": [
    {
     "name": "stdout",
     "output_type": "stream",
     "text": [
      "https://www.aavso.org/apps/webobs/results/?star=betelgeuse&num_results=200&obs_types=vis&page=1\n",
      "https://www.aavso.org/apps/webobs/results/?star=betelgeuse&num_results=200&obs_types=vis&page=2\n",
      "https://www.aavso.org/apps/webobs/results/?star=betelgeuse&num_results=200&obs_types=vis&page=3\n",
      "https://www.aavso.org/apps/webobs/results/?star=betelgeuse&num_results=200&obs_types=vis&page=4\n",
      "https://www.aavso.org/apps/webobs/results/?star=betelgeuse&num_results=200&obs_types=vis&page=5\n",
      "https://www.aavso.org/apps/webobs/results/?star=betelgeuse&num_results=200&obs_types=vis&page=6\n",
      "https://www.aavso.org/apps/webobs/results/?star=betelgeuse&num_results=200&obs_types=vis&page=7\n",
      "https://www.aavso.org/apps/webobs/results/?star=betelgeuse&num_results=200&obs_types=vis&page=8\n",
      "https://www.aavso.org/apps/webobs/results/?star=betelgeuse&num_results=200&obs_types=vis&page=9\n"
     ]
    }
   ],
   "source": [
    "# Pull the last 10 pages from AAVSO and collate the dates and mags\n",
    "url_base = 'https://www.aavso.org/apps/webobs/results/?star=betelgeuse&num_results=200&obs_types=vis&page='\n",
    "pages = np.arange(1, 10, 1)\n",
    "all_dates = np.array([])\n",
    "all_mags = np.array([])\n",
    "for page in pages:\n",
    "    url = url_base + str(page)\n",
    "    print(url)\n",
    "    dates, mags = get_mags_from_AAVSO(url)\n",
    "    all_dates = np.concatenate((all_dates, dates))\n",
    "    all_mags = np.concatenate((all_mags, mags))"
   ]
  },
  {
   "cell_type": "code",
   "execution_count": 13,
   "metadata": {},
   "outputs": [
    {
     "data": {
      "text/plain": [
       "[<matplotlib.lines.Line2D at 0x7fd58e92a610>]"
      ]
     },
     "execution_count": 13,
     "metadata": {},
     "output_type": "execute_result"
    },
    {
     "data": {
      "image/png": "[encoded data removed]",
      "text/plain": [
       "<Figure size 432x288 with 1 Axes>"
      ]
     },
     "metadata": {
      "needs_background": "light"
     },
     "output_type": "display_data"
    }
   ],
   "source": [
    "dates = all_dates\n",
    "mags = all_mags\n",
    "plt.plot(dates, mags, 'o')"
   ]
  },
  {
   "cell_type": "code",
   "execution_count": null,
   "metadata": {},
   "outputs": [],
   "source": [
    "days_ago = np.max(dates) - dates\n",
    "text = build_string(days_ago, mags)"
   ]
  }
 ],
 "metadata": {
  "kernelspec": {
   "display_name": "Python 3",
   "language": "python",
   "name": "python3"
  },
  "language_info": {
   "codemirror_mode": {
    "name": "ipython",
    "version": 3
   },
   "file_extension": ".py",
   "mimetype": "text/x-python",
   "name": "python",
   "nbconvert_exporter": "python",
   "pygments_lexer": "ipython3",
   "version": "3.7.7"
  }
 },
 "nbformat": 4,
 "nbformat_minor": 4
}
